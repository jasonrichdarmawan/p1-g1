{
 "cells": [
  {
   "cell_type": "markdown",
   "metadata": {},
   "source": [
    "# 1 - Linear Regression\n",
    "\n",
    "goal: find the equation"
   ]
  },
  {
   "cell_type": "code",
   "execution_count": 94,
   "metadata": {},
   "outputs": [
    {
     "name": "stdout",
     "output_type": "stream",
     "text": [
      "y_true [-5 -3 -1  1  3  5  7  9 11 13]\n",
      "intercept -5.000000000000002\n",
      "coef [2.]\n",
      "y_test_true [-1 11]\n",
      "y_test_predict [-1. 11.]\n",
      "mean absolute error 0.0\n"
     ]
    },
    {
     "data": {
      "image/png": "[encoded data removed]",
      "text/plain": [
       "<Figure size 640x480 with 1 Axes>"
      ]
     },
     "metadata": {},
     "output_type": "display_data"
    }
   ],
   "source": [
    "import numpy as np\n",
    "import matplotlib.pyplot as plt\n",
    "\n",
    "X = np.array([0,1,2,3,4,5,6,7,8,9])\n",
    "# y = -5 + 2x\n",
    "y = -5 + 2 * X\n",
    "print(\"y_true\", y)\n",
    "plt.scatter(X, y)\n",
    "\n",
    "from sklearn.linear_model import LinearRegression\n",
    "\n",
    "from sklearn.model_selection import train_test_split\n",
    "\n",
    "X_train, X_test, y_train_true, y_test_true = train_test_split(X[:, np.newaxis], \n",
    "                                                    y, \n",
    "                                                    test_size=0.2, \n",
    "                                                    random_state=0)\n",
    "\n",
    "model = LinearRegression(fit_intercept=True)\n",
    "model.fit(X_train, y_train_true)\n",
    "\n",
    "print(\"intercept\", model.intercept_)\n",
    "print(\"coef\", model.coef_)\n",
    "\n",
    "y_test_predict = model.predict(X_test)\n",
    "\n",
    "print(\"y_test_true\", y_test_true)\n",
    "print(\"y_test_predict\", y_test_predict)\n",
    "\n",
    "plt.plot(X_test, y_test_predict)\n",
    "\n",
    "from sklearn.metrics import mean_absolute_percentage_error\n",
    "\n",
    "print(\"mean absolute error {0:.1f}\".format(mean_absolute_percentage_error(y_test_true, y_test_predict)))"
   ]
  },
  {
   "cell_type": "code",
   "execution_count": 70,
   "metadata": {},
   "outputs": [
    {
     "name": "stdout",
     "output_type": "stream",
     "text": [
      "33%\n"
     ]
    }
   ],
   "source": [
    "print(\"{0:.0%}\".format(1/3))"
   ]
  },
  {
   "cell_type": "code",
   "execution_count": 97,
   "metadata": {},
   "outputs": [
    {
     "name": "stdout",
     "output_type": "stream",
     "text": [
      "0.3\n",
      "0.3\n"
     ]
    }
   ],
   "source": [
    "y_pred = [2.5,  0.0, 2, 8]\n",
    "y_true = [3  , -0.5, 2, 7]\n",
    "\n",
    "print(\"{0:.1f}\".format((np.abs((2.5-3)/3) \n",
    "                        + np.abs((0+0.5)/0.5) \n",
    "                        + np.abs((2-2)/2) \n",
    "                        + np.abs((8-7)/7))\n",
    "                       /4))\n",
    "print(\"{0:.1f}\".format(mean_absolute_percentage_error(y_true=y_true, y_pred=y_pred)))"
   ]
  }
 ],
 "metadata": {
  "kernelspec": {
   "display_name": "Python 3.10.8 64-bit",
   "language": "python",
   "name": "python3"
  },
  "language_info": {
   "codemirror_mode": {
    "name": "ipython",
    "version": 3
   },
   "file_extension": ".py",
   "mimetype": "text/x-python",
   "name": "python",
   "nbconvert_exporter": "python",
   "pygments_lexer": "ipython3",
   "version": "3.10.8"
  },
  "orig_nbformat": 4,
  "vscode": {
   "interpreter": {
    "hash": "aee8b7b246df8f9039afb4144a1f6fd8d2ca17a180786b69acc140d282b71a49"
   }
  }
 },
 "nbformat": 4,
 "nbformat_minor": 2
}
